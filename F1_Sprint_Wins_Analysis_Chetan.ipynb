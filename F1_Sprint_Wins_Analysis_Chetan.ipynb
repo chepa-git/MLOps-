{
  "cells": [
    {
      "cell_type": "markdown",
      "id": "f70a92b5",
      "metadata": {
        "id": "f70a92b5"
      },
      "source": [
        "# 🏎️ F1 Sprint Race Wins Analysis\n",
        "**Author:** Faisal Nazir  \n",
        "**Objective:** Download Kaggle F1 dataset and compute sprint race wins per driver.\n",
        "\n",
        "> This notebook uses the `kagglehub` library to fetch the dataset and Pandas to clean and analyse the data."
      ]
    },
    {
      "cell_type": "code",
      "execution_count": 28,
      "id": "ae1381b2",
      "metadata": {
        "id": "ae1381b2"
      },
      "outputs": [],
      "source": [
        "# !pip install kagglehub pandas\n",
        "import kagglehub\n",
        "import pandas as pd\n",
        "import os\n",
        "from IPython.display import display, Markdown"
      ]
    },
    {
      "cell_type": "code",
      "execution_count": 8,
      "id": "fb8badc4",
      "metadata": {
        "colab": {
          "base_uri": "https://localhost:8080/"
        },
        "id": "fb8badc4",
        "outputId": "46f0b882-9ecf-4977-f9db-d4c342d67e1d"
      },
      "outputs": [
        {
          "output_type": "stream",
          "name": "stdout",
          "text": [
            "Path to dataset files: /kaggle/input/formula-1-world-championship-1950-2020\n"
          ]
        }
      ],
      "source": [
        "# Download the dataset\n",
        "path = kagglehub.dataset_download(\"rohanrao/formula-1-world-championship-1950-2020\")\n",
        "print(\"Path to dataset files:\", path)"
      ]
    },
    {
      "cell_type": "code",
      "source": [],
      "metadata": {
        "id": "0-yYOvjUqi10"
      },
      "id": "0-yYOvjUqi10",
      "execution_count": null,
      "outputs": []
    },
    {
      "cell_type": "code",
      "execution_count": 15,
      "id": "6cd09a65",
      "metadata": {
        "id": "6cd09a65"
      },
      "outputs": [],
      "source": [
        "# Load the necessary dataframes\n",
        "circuits_df = pd.read_csv(os.path.join(path, 'circuits.csv'))\n",
        "races_df = pd.read_csv(os.path.join(path, 'races.csv'))\n",
        "results_df = pd.read_csv(os.path.join(path, 'results.csv'))\n",
        "drivers_df = pd.read_csv(os.path.join(path, 'drivers.csv'))\n",
        "sprint_results_df = pd.read_csv(os.path.join(path, 'sprint_results.csv'))"
      ]
    },
    {
      "cell_type": "code",
      "execution_count": 16,
      "id": "8506eb60",
      "metadata": {
        "id": "8506eb60"
      },
      "outputs": [],
      "source": [
        "# Merge sprint results with races to get race information\n",
        "sprint_races_df = pd.merge(sprint_results_df, races_df[['raceId', 'year', 'name']], on='raceId')\n",
        "\n",
        "# Merge with drivers to get driver names\n",
        "sprint_race_winners = pd.merge(sprint_races_df[sprint_races_df['positionOrder'] == 1], drivers_df[['driverId', 'forename', 'surname']], on='driverId')\n",
        "\n",
        "# Combine forename and surname for full driver name\n",
        "sprint_race_winners['driverName'] = sprint_race_winners['forename'] + ' ' + sprint_race_winners['surname']"
      ]
    },
    {
      "cell_type": "code",
      "execution_count": 56,
      "id": "9c56fc78",
      "metadata": {
        "colab": {
          "base_uri": "https://localhost:8080/"
        },
        "id": "9c56fc78",
        "outputId": "6a38d881-ad78-4df8-e638-b97c94368e4f"
      },
      "outputs": [
        {
          "output_type": "stream",
          "name": "stdout",
          "text": [
            "Number of F1 Sprint race wins per driver:\n",
            "        driverName  sprintWins\n",
            "0   Max Verstappen          11\n",
            "1  Valtteri Bottas           2\n",
            "2    Oscar Piastri           2\n",
            "3   George Russell           1\n",
            "4     Sergio Pérez           1\n",
            "5     Lando Norris           1\n"
          ]
        }
      ],
      "source": [
        "# Display the results\n",
        "print(\"Number of F1 Sprint race wins per driver:\")\n",
        "print(sprint_wins_count)"
      ]
    },
    {
      "cell_type": "code",
      "execution_count": 37,
      "id": "8361f4aa",
      "metadata": {
        "id": "8361f4aa"
      },
      "outputs": [],
      "source": [
        "# Count the number of sprint wins for each driver\n",
        "sprint_wins_count = sprint_race_winners['driverName'].value_counts().reset_index()\n",
        "sprint_wins_count.columns = ['driverName', 'sprintWins']"
      ]
    },
    {
      "cell_type": "code",
      "source": [
        "from IPython.display import display\n",
        "\n",
        "styled_sprint_wins = sprint_wins_count.style.set_table_styles([\n",
        "    {'selector': 'thead th', 'props': [('background-color', '#111'), ('color', 'white'), ('font-weight', 'bold')]},\n",
        "    {'selector': 'tbody td', 'props': [('background-color', '#222'), ('color', 'white')]},\n",
        "    {'selector': 'tbody tr:nth-child(even)', 'props': [('background-color', '#2a2a2a')]},\n",
        "    {'selector': 'td', 'props': [('text-align', 'left')]}\n",
        "]).set_properties(**{'border': '1px solid #333', 'padding': '5px'})\n",
        "\n",
        "display(styled_sprint_wins)\n",
        "\n"
      ],
      "metadata": {
        "colab": {
          "base_uri": "https://localhost:8080/",
          "height": 238
        },
        "id": "XGDAw0FCbrUP",
        "outputId": "646c2e55-48e9-4a25-c340-45085397f046"
      },
      "id": "XGDAw0FCbrUP",
      "execution_count": 68,
      "outputs": [
        {
          "output_type": "display_data",
          "data": {
            "text/plain": [
              "<pandas.io.formats.style.Styler at 0x7e85ec9a6690>"
            ],
            "text/html": [
              "<style type=\"text/css\">\n",
              "#T_55d0f thead th {\n",
              "  background-color: #111;\n",
              "  color: white;\n",
              "  font-weight: bold;\n",
              "}\n",
              "#T_55d0f tbody td {\n",
              "  background-color: #222;\n",
              "  color: white;\n",
              "}\n",
              "#T_55d0f tbody tr:nth-child(even) {\n",
              "  background-color: #2a2a2a;\n",
              "}\n",
              "#T_55d0f td {\n",
              "  text-align: left;\n",
              "}\n",
              "#T_55d0f_row0_col0, #T_55d0f_row0_col1, #T_55d0f_row1_col0, #T_55d0f_row1_col1, #T_55d0f_row2_col0, #T_55d0f_row2_col1, #T_55d0f_row3_col0, #T_55d0f_row3_col1, #T_55d0f_row4_col0, #T_55d0f_row4_col1, #T_55d0f_row5_col0, #T_55d0f_row5_col1 {\n",
              "  border: 1px solid #333;\n",
              "  padding: 5px;\n",
              "}\n",
              "</style>\n",
              "<table id=\"T_55d0f\" class=\"dataframe\">\n",
              "  <thead>\n",
              "    <tr>\n",
              "      <th class=\"blank level0\" >&nbsp;</th>\n",
              "      <th id=\"T_55d0f_level0_col0\" class=\"col_heading level0 col0\" >driverName</th>\n",
              "      <th id=\"T_55d0f_level0_col1\" class=\"col_heading level0 col1\" >sprintWins</th>\n",
              "    </tr>\n",
              "  </thead>\n",
              "  <tbody>\n",
              "    <tr>\n",
              "      <th id=\"T_55d0f_level0_row0\" class=\"row_heading level0 row0\" >0</th>\n",
              "      <td id=\"T_55d0f_row0_col0\" class=\"data row0 col0\" >Max Verstappen</td>\n",
              "      <td id=\"T_55d0f_row0_col1\" class=\"data row0 col1\" >11</td>\n",
              "    </tr>\n",
              "    <tr>\n",
              "      <th id=\"T_55d0f_level0_row1\" class=\"row_heading level0 row1\" >1</th>\n",
              "      <td id=\"T_55d0f_row1_col0\" class=\"data row1 col0\" >Valtteri Bottas</td>\n",
              "      <td id=\"T_55d0f_row1_col1\" class=\"data row1 col1\" >2</td>\n",
              "    </tr>\n",
              "    <tr>\n",
              "      <th id=\"T_55d0f_level0_row2\" class=\"row_heading level0 row2\" >2</th>\n",
              "      <td id=\"T_55d0f_row2_col0\" class=\"data row2 col0\" >Oscar Piastri</td>\n",
              "      <td id=\"T_55d0f_row2_col1\" class=\"data row2 col1\" >2</td>\n",
              "    </tr>\n",
              "    <tr>\n",
              "      <th id=\"T_55d0f_level0_row3\" class=\"row_heading level0 row3\" >3</th>\n",
              "      <td id=\"T_55d0f_row3_col0\" class=\"data row3 col0\" >George Russell</td>\n",
              "      <td id=\"T_55d0f_row3_col1\" class=\"data row3 col1\" >1</td>\n",
              "    </tr>\n",
              "    <tr>\n",
              "      <th id=\"T_55d0f_level0_row4\" class=\"row_heading level0 row4\" >4</th>\n",
              "      <td id=\"T_55d0f_row4_col0\" class=\"data row4 col0\" >Sergio Pérez</td>\n",
              "      <td id=\"T_55d0f_row4_col1\" class=\"data row4 col1\" >1</td>\n",
              "    </tr>\n",
              "    <tr>\n",
              "      <th id=\"T_55d0f_level0_row5\" class=\"row_heading level0 row5\" >5</th>\n",
              "      <td id=\"T_55d0f_row5_col0\" class=\"data row5 col0\" >Lando Norris</td>\n",
              "      <td id=\"T_55d0f_row5_col1\" class=\"data row5 col1\" >1</td>\n",
              "    </tr>\n",
              "  </tbody>\n",
              "</table>\n"
            ]
          },
          "metadata": {}
        }
      ]
    },
    {
      "cell_type": "code",
      "source": [
        "gp_winners = pd.merge(results_df[results_df['positionOrder'] == 1], drivers_df[['driverId', 'forename', 'surname']], on='driverId')\n",
        "gp_winners['driverName'] = gp_winners['forename'] + ' ' + gp_winners['surname']\n",
        "\n",
        "# Step 2: Group by driver name and count wins\n",
        "grandprix_wins = gp_winners['driverName'].value_counts().reset_index()\n",
        "grandprix_wins.columns = ['driverName', 'grandprixWins']\n",
        "grandprix_wins = grandprix_wins.sort_values(by='grandprixWins', ascending=False).reset_index(drop=True)\n",
        "\n",
        "# Step 3: Extract top and bottom\n",
        "top5 = grandprix_wins.head(5)\n",
        "bottom5 = grandprix_wins.tail(5)\n",
        "ellipsis = pd.DataFrame([[\"...\", \"...\"]], columns=['driverName', 'grandprixWins'])\n",
        "\n",
        "# Step 4: Combine\n",
        "final_df = pd.concat([top5, ellipsis, bottom5], ignore_index=True)\n",
        "final_df.columns = ['driverName', 'grandprixWins']\n",
        "\n",
        "# Step 5: Custom index\n",
        "custom_index = list(range(5)) + ['...'] + list(range(len(grandprix_wins) - 5, len(grandprix_wins)))\n",
        "final_df.index = custom_index\n",
        "\n",
        "# Step 6: Style\n",
        "styled_df = final_df.style.set_table_styles([\n",
        "    {'selector': 'thead th', 'props': [('background-color', '#111'), ('color', 'white'), ('font-weight', 'bold')]},\n",
        "    {'selector': 'tbody td', 'props': [('background-color', '#222'), ('color', 'white')]},\n",
        "    {'selector': 'tbody tr:nth-child(even)', 'props': [('background-color', '#2a2a2a')]},\n",
        "    {'selector': 'td', 'props': [('text-align', 'left')]}\n",
        "]).set_properties(**{'border': '1px solid #333', 'padding': '5px'})\n",
        "\n",
        "# Step 7: Display\n",
        "display(Markdown(\"### Number of F1 Grand Prix wins per driver:\"))\n",
        "display(styled_df)\n",
        "display(Markdown(f\"**{len(grandprix_wins)} rows × 2 columns**\"))"
      ],
      "metadata": {
        "colab": {
          "base_uri": "https://localhost:8080/",
          "height": 465
        },
        "id": "6_eM87Isf7WJ",
        "outputId": "2b092f34-6d1e-446e-8a59-2255cdff1258"
      },
      "id": "6_eM87Isf7WJ",
      "execution_count": 77,
      "outputs": [
        {
          "output_type": "display_data",
          "data": {
            "text/plain": [
              "<IPython.core.display.Markdown object>"
            ],
            "text/markdown": "### Number of F1 Grand Prix wins per driver:"
          },
          "metadata": {}
        },
        {
          "output_type": "display_data",
          "data": {
            "text/plain": [
              "<pandas.io.formats.style.Styler at 0x7e85ec977f50>"
            ],
            "text/html": [
              "<style type=\"text/css\">\n",
              "#T_2ec9a thead th {\n",
              "  background-color: #111;\n",
              "  color: white;\n",
              "  font-weight: bold;\n",
              "}\n",
              "#T_2ec9a tbody td {\n",
              "  background-color: #222;\n",
              "  color: white;\n",
              "}\n",
              "#T_2ec9a tbody tr:nth-child(even) {\n",
              "  background-color: #2a2a2a;\n",
              "}\n",
              "#T_2ec9a td {\n",
              "  text-align: left;\n",
              "}\n",
              "#T_2ec9a_row0_col0, #T_2ec9a_row0_col1, #T_2ec9a_row1_col0, #T_2ec9a_row1_col1, #T_2ec9a_row2_col0, #T_2ec9a_row2_col1, #T_2ec9a_row3_col0, #T_2ec9a_row3_col1, #T_2ec9a_row4_col0, #T_2ec9a_row4_col1, #T_2ec9a_row5_col0, #T_2ec9a_row5_col1, #T_2ec9a_row6_col0, #T_2ec9a_row6_col1, #T_2ec9a_row7_col0, #T_2ec9a_row7_col1, #T_2ec9a_row8_col0, #T_2ec9a_row8_col1, #T_2ec9a_row9_col0, #T_2ec9a_row9_col1, #T_2ec9a_row10_col0, #T_2ec9a_row10_col1 {\n",
              "  border: 1px solid #333;\n",
              "  padding: 5px;\n",
              "}\n",
              "</style>\n",
              "<table id=\"T_2ec9a\" class=\"dataframe\">\n",
              "  <thead>\n",
              "    <tr>\n",
              "      <th class=\"blank level0\" >&nbsp;</th>\n",
              "      <th id=\"T_2ec9a_level0_col0\" class=\"col_heading level0 col0\" >driverName</th>\n",
              "      <th id=\"T_2ec9a_level0_col1\" class=\"col_heading level0 col1\" >grandprixWins</th>\n",
              "    </tr>\n",
              "  </thead>\n",
              "  <tbody>\n",
              "    <tr>\n",
              "      <th id=\"T_2ec9a_level0_row0\" class=\"row_heading level0 row0\" >0</th>\n",
              "      <td id=\"T_2ec9a_row0_col0\" class=\"data row0 col0\" >Lewis Hamilton</td>\n",
              "      <td id=\"T_2ec9a_row0_col1\" class=\"data row0 col1\" >105</td>\n",
              "    </tr>\n",
              "    <tr>\n",
              "      <th id=\"T_2ec9a_level0_row1\" class=\"row_heading level0 row1\" >1</th>\n",
              "      <td id=\"T_2ec9a_row1_col0\" class=\"data row1 col0\" >Michael Schumacher</td>\n",
              "      <td id=\"T_2ec9a_row1_col1\" class=\"data row1 col1\" >91</td>\n",
              "    </tr>\n",
              "    <tr>\n",
              "      <th id=\"T_2ec9a_level0_row2\" class=\"row_heading level0 row2\" >2</th>\n",
              "      <td id=\"T_2ec9a_row2_col0\" class=\"data row2 col0\" >Max Verstappen</td>\n",
              "      <td id=\"T_2ec9a_row2_col1\" class=\"data row2 col1\" >63</td>\n",
              "    </tr>\n",
              "    <tr>\n",
              "      <th id=\"T_2ec9a_level0_row3\" class=\"row_heading level0 row3\" >3</th>\n",
              "      <td id=\"T_2ec9a_row3_col0\" class=\"data row3 col0\" >Sebastian Vettel</td>\n",
              "      <td id=\"T_2ec9a_row3_col1\" class=\"data row3 col1\" >53</td>\n",
              "    </tr>\n",
              "    <tr>\n",
              "      <th id=\"T_2ec9a_level0_row4\" class=\"row_heading level0 row4\" >4</th>\n",
              "      <td id=\"T_2ec9a_row4_col0\" class=\"data row4 col0\" >Alain Prost</td>\n",
              "      <td id=\"T_2ec9a_row4_col1\" class=\"data row4 col1\" >51</td>\n",
              "    </tr>\n",
              "    <tr>\n",
              "      <th id=\"T_2ec9a_level0_row5\" class=\"row_heading level0 row5\" >...</th>\n",
              "      <td id=\"T_2ec9a_row5_col0\" class=\"data row5 col0\" >...</td>\n",
              "      <td id=\"T_2ec9a_row5_col1\" class=\"data row5 col1\" >...</td>\n",
              "    </tr>\n",
              "    <tr>\n",
              "      <th id=\"T_2ec9a_level0_row6\" class=\"row_heading level0 row6\" >110</th>\n",
              "      <td id=\"T_2ec9a_row6_col0\" class=\"data row6 col0\" >Johnnie Parsons</td>\n",
              "      <td id=\"T_2ec9a_row6_col1\" class=\"data row6 col1\" >1</td>\n",
              "    </tr>\n",
              "    <tr>\n",
              "      <th id=\"T_2ec9a_level0_row7\" class=\"row_heading level0 row7\" >111</th>\n",
              "      <td id=\"T_2ec9a_row7_col0\" class=\"data row7 col0\" >Pastor Maldonado</td>\n",
              "      <td id=\"T_2ec9a_row7_col1\" class=\"data row7 col1\" >1</td>\n",
              "    </tr>\n",
              "    <tr>\n",
              "      <th id=\"T_2ec9a_level0_row8\" class=\"row_heading level0 row8\" >112</th>\n",
              "      <td id=\"T_2ec9a_row8_col0\" class=\"data row8 col0\" >Lee Wallard</td>\n",
              "      <td id=\"T_2ec9a_row8_col1\" class=\"data row8 col1\" >1</td>\n",
              "    </tr>\n",
              "    <tr>\n",
              "      <th id=\"T_2ec9a_level0_row9\" class=\"row_heading level0 row9\" >113</th>\n",
              "      <td id=\"T_2ec9a_row9_col0\" class=\"data row9 col0\" >Esteban Ocon</td>\n",
              "      <td id=\"T_2ec9a_row9_col1\" class=\"data row9 col1\" >1</td>\n",
              "    </tr>\n",
              "    <tr>\n",
              "      <th id=\"T_2ec9a_level0_row10\" class=\"row_heading level0 row10\" >114</th>\n",
              "      <td id=\"T_2ec9a_row10_col0\" class=\"data row10 col0\" >Pierre Gasly</td>\n",
              "      <td id=\"T_2ec9a_row10_col1\" class=\"data row10 col1\" >1</td>\n",
              "    </tr>\n",
              "  </tbody>\n",
              "</table>\n"
            ]
          },
          "metadata": {}
        },
        {
          "output_type": "display_data",
          "data": {
            "text/plain": [
              "<IPython.core.display.Markdown object>"
            ],
            "text/markdown": "**115 rows × 2 columns**"
          },
          "metadata": {}
        }
      ]
    },
    {
      "cell_type": "code",
      "source": [],
      "metadata": {
        "id": "WcaBbYE2hxAX"
      },
      "id": "WcaBbYE2hxAX",
      "execution_count": null,
      "outputs": []
    }
  ],
  "metadata": {
    "kernelspec": {
      "display_name": "Python 3",
      "language": "python",
      "name": "python3"
    },
    "language_info": {
      "name": "python",
      "version": "3.9"
    },
    "colab": {
      "provenance": []
    }
  },
  "nbformat": 4,
  "nbformat_minor": 5
}